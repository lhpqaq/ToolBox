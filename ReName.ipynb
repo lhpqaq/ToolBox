{
 "cells": [
  {
   "cell_type": "code",
   "execution_count": 1,
   "id": "d1899c56",
   "metadata": {},
   "outputs": [],
   "source": [
    "num=[]\n",
    "name=[]\n",
    "with open(\"../编译原理/list.txt\", \"r\",encoding='utf-8') as f:\n",
    "    for i in range(62):\n",
    "        data = f.readline().strip() \n",
    "        if(i<31):\n",
    "            num.append(data)\n",
    "        else:\n",
    "            name.append(data)"
   ]
  },
  {
   "cell_type": "code",
   "execution_count": 9,
   "id": "4b485549",
   "metadata": {},
   "outputs": [],
   "source": [
    "for i in range(31):\n",
    "    print(name[i]+' '+num[i])"
   ]
  },
  {
   "cell_type": "code",
   "execution_count": 3,
   "id": "ce28fa23",
   "metadata": {},
   "outputs": [],
   "source": [
    "begin='编译原理作业-3-'\n",
    "path='./课代表/作业三/'"
   ]
  },
  {
   "cell_type": "code",
   "execution_count": 6,
   "id": "3d529aa8",
   "metadata": {},
   "outputs": [],
   "source": [
    "import os\n",
    "yes=[0]*31\n",
    "for f in os.listdir(path):\n",
    "    for i in range(31):\n",
    "        if(f.find(name[i])>=0):\n",
    "            yes[i]=1\n",
    "            newname=begin+name[i]+'-计科1903-'+num[i]+'.pdf'\n",
    "            #print(newname)\n",
    "            if(f!=newname):\n",
    "                print(f)\n",
    "                os.rename(path+f,path+newname)\n",
    "            #os.rename(path+f,path+)\n",
    "            break"
   ]
  },
  {
   "cell_type": "code",
   "execution_count": 11,
   "id": "ea67e525",
   "metadata": {},
   "outputs": [
    {
     "name": "stdout",
     "output_type": "stream",
     "text": [
      "未交：\n"
     ]
    }
   ],
   "source": [
    "print(\"未交：\")\n",
    "for i in range(31):\n",
    "    if(yes[i]==0):\n",
    "        print(name[i])"
   ]
  },
  {
   "cell_type": "code",
   "execution_count": null,
   "id": "cec8ea6f",
   "metadata": {},
   "outputs": [],
   "source": []
  }
 ],
 "metadata": {
  "kernelspec": {
   "display_name": "Python 3 (ipykernel)",
   "language": "python",
   "name": "python3"
  },
  "language_info": {
   "codemirror_mode": {
    "name": "ipython",
    "version": 3
   },
   "file_extension": ".py",
   "mimetype": "text/x-python",
   "name": "python",
   "nbconvert_exporter": "python",
   "pygments_lexer": "ipython3",
   "version": "3.8.0"
  }
 },
 "nbformat": 4,
 "nbformat_minor": 5
}
