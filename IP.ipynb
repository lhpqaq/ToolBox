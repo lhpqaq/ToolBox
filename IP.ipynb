{
 "cells": [
  {
   "cell_type": "code",
   "execution_count": 19,
   "id": "83bafb41",
   "metadata": {},
   "outputs": [
    {
     "name": "stdout",
     "output_type": "stream",
     "text": [
      "中国,江苏,南京,,\n",
      "您查询的IP地址 112.80.248.75 \n",
      "来源地是：\n",
      "\t国家：中国\n",
      "\t省份：江苏\n",
      "\t城市：南京\n",
      "\t区域：\n",
      "\t运营商：\n"
     ]
    }
   ],
   "source": [
    "import requests\n",
    "\n",
    "def main(args):\n",
    "\n",
    "    url = 'http://freeapi.ipip.net/'  #中文免费\n",
    "    url=url+format(args)\n",
    "    response = requests.get(url)\n",
    "\n",
    "    str=response.text.replace('\\\"','') #去掉双引号\n",
    "    str=str.replace('[','')      #去掉方括号\n",
    "    str=str.replace(']','')\n",
    "    str=str.replace(' ','')\n",
    "    print(str)\n",
    "    str=str.split(\",\")  #已逗号为分割符号，分割字符串为数组\n",
    "    print(\"您查询的IP地址 %s \\n来源地是：\"%args)\n",
    "    print(\"\\t国家：%s\"%(str[0]))\n",
    "    print(\"\\t省份：%s\"%(str[1]))\n",
    "    print(\"\\t城市：%s\"%(str[2]))\n",
    "    print(\"\\t区域：%s\"%(str[3]))\n",
    "    str[4] = str[4].replace('\\n', '') #去掉回车符号\n",
    "    print(\"\\t运营商：%s\"%(str[4]))\n",
    "\n",
    "if __name__ == \"__main__\":\n",
    "    main('112.80.248.75')"
   ]
  },
  {
   "cell_type": "code",
   "execution_count": null,
   "id": "32ba76de",
   "metadata": {},
   "outputs": [],
   "source": [
    "county"
   ]
  }
 ],
 "metadata": {
  "kernelspec": {
   "display_name": "Python 3 (ipykernel)",
   "language": "python",
   "name": "python3"
  },
  "language_info": {
   "codemirror_mode": {
    "name": "ipython",
    "version": 3
   },
   "file_extension": ".py",
   "mimetype": "text/x-python",
   "name": "python",
   "nbconvert_exporter": "python",
   "pygments_lexer": "ipython3",
   "version": "3.8.0"
  }
 },
 "nbformat": 4,
 "nbformat_minor": 5
}
